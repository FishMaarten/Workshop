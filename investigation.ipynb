{
 "cells": [
  {
   "cell_type": "markdown",
   "metadata": {},
   "source": [
    "# 1. Last commit on master branch:"
   ]
  },
  {
   "cell_type": "raw",
   "metadata": {},
   "source": [
    "Who made the commit : \n",
    "What time was the commit made : \n",
    "Were any files modified : \n",
    "What was the commit message : \n",
    "Why were these changes made : "
   ]
  },
  {
   "cell_type": "markdown",
   "metadata": {},
   "source": [
    "# 2. First 3 commits on the repo:"
   ]
  },
  {
   "cell_type": "raw",
   "metadata": {},
   "source": [
    "What day were the changes committed : \n",
    "Which files were modified : \n",
    "Why were these changes committed : "
   ]
  },
  {
   "cell_type": "markdown",
   "metadata": {},
   "source": [
    "# 3. Commit with message: \"Table data\""
   ]
  },
  {
   "cell_type": "raw",
   "metadata": {},
   "source": [
    "Which files were modified : \n",
    "Name 3 distinct changes made :\n",
    "What is this commit's hash?"
   ]
  },
  {
   "cell_type": "markdown",
   "metadata": {},
   "source": [
    "# 4. Commit tagged \"V0.1\""
   ]
  },
  {
   "cell_type": "raw",
   "metadata": {},
   "source": [
    "What was changed : \n",
    "Why were the changes made : \n",
    "What is the message : "
   ]
  },
  {
   "cell_type": "markdown",
   "metadata": {},
   "source": [
    "# 5. Hash = d8e70b1cc119b65eb149cc10acc9dcdc63cf35f4"
   ]
  },
  {
   "cell_type": "raw",
   "metadata": {},
   "source": [
    "What time was this committed : \n",
    "Whick files were edited :\n",
    "What does the blue decorator stand for :\n",
    "What doed the red decorator stand for : \n",
    "What does the green decorator stand for : "
   ]
  },
  {
   "cell_type": "markdown",
   "metadata": {},
   "source": [
    "# 6. Without looking at the commit time:"
   ]
  },
  {
   "cell_type": "raw",
   "metadata": {},
   "source": [
    "Which Exercise was made first?\n",
    "Exercise 1 or 2? :\n",
    "Exercise 3 or 4? :"
   ]
  },
  {
   "cell_type": "markdown",
   "metadata": {},
   "source": [
    "**Congratulations!** You've made it to the end"
   ]
  }
 ],
 "metadata": {
  "kernelspec": {
   "display_name": "Python 3",
   "language": "python",
   "name": "python3"
  },
  "language_info": {
   "codemirror_mode": {
    "name": "ipython",
    "version": 3
   },
   "file_extension": ".py",
   "mimetype": "text/x-python",
   "name": "python",
   "nbconvert_exporter": "python",
   "pygments_lexer": "ipython3",
   "version": "3.7.6"
  }
 },
 "nbformat": 4,
 "nbformat_minor": 4
}
