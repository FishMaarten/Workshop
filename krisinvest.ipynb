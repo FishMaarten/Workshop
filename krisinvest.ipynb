{
 "cells": [
  {
   "cell_type": "markdown",
   "metadata": {},
   "source": [
    "# 1. Last commit on master branch:"
   ]
  },
  {
   "cell_type": "raw",
   "metadata": {},
   "source": [
    "Who made the commit : Fish Maarten\n",
    "What time was the commit made : Tue Jun 16 11:51:45 2020\n",
    "Were any files modified : README.md\n",
    "What was the commit message : Edit README found issue with tags\n",
    "Why were these changes made : issues"
   ]
  },
  {
   "cell_type": "markdown",
   "metadata": {},
   "source": [
    "# 2. First 3 commits on the repo:"
   ]
  },
  {
   "cell_type": "raw",
   "metadata": {},
   "source": [
    "What day were the changes committed : 14 June\n",
    "Which files were modified : README.md was created and edited and gittignore (diff head~2)\n",
    "Why were these changes committed : initial commit / populate gittignore / edit readme"
   ]
  },
  {
   "cell_type": "markdown",
   "metadata": {},
   "source": [
    "# 3. Commit with message: \"Table data\""
   ]
  },
  {
   "cell_type": "raw",
   "metadata": {},
   "source": [
    "Which files were modified : home.html and styles.css\n",
    "Name 3 distinct changes made : added species, cultivar etc table headers, changes in html I don't really get\n",
    "What is this commit's hash? 8eec074a8465210a8f4f3a1ac821750f09135c26"
   ]
  },
  {
   "cell_type": "markdown",
   "metadata": {},
   "source": [
    "# 4. Commit tagged \"V0.1\""
   ]
  },
  {
   "cell_type": "raw",
   "metadata": {},
   "source": [
    "What was changed : styles.css and home.html / author, title, description added, header size\n",
    "Why were the changes made : layout \n",
    "What is the message : Basic page layout done"
   ]
  },
  {
   "cell_type": "markdown",
   "metadata": {},
   "source": [
    "# 5. Hash = d8e70b1cc119b65eb149cc10acc9dcdc63cf35f4"
   ]
  },
  {
   "cell_type": "raw",
   "metadata": {},
   "source": [
    "What time was this committed : Sun Jun 14 12:11:09 2020\n",
    "Whick files were edited : README.md\n",
    "What does the blue decorator stand for : current commit\n",
    "What doed the red decorator stand for : online\n",
    "What does the green decorator stand for : current local position"
   ]
  },
  {
   "cell_type": "markdown",
   "metadata": {},
   "source": [
    "# 6. Without looking at the commit time:"
   ]
  },
  {
   "cell_type": "raw",
   "metadata": {},
   "source": [
    "Which Exercise was made first?\n",
    "Exercise 1 or 2? :2\n",
    "Exercise 3 or 4? : 3"
   ]
  },
  {
   "cell_type": "markdown",
   "metadata": {},
   "source": [
    "**Congratulations!** You've made it to the end"
   ]
  }
 ],
 "metadata": {
  "kernelspec": {
   "display_name": "Python 3",
   "language": "python",
   "name": "python3"
  },
  "language_info": {
   "codemirror_mode": {
    "name": "ipython",
    "version": 3
   },
   "file_extension": ".py",
   "mimetype": "text/x-python",
   "name": "python",
   "nbconvert_exporter": "python",
   "pygments_lexer": "ipython3",
   "version": "3.7.6"
  }
 },
 "nbformat": 4,
 "nbformat_minor": 4
}
